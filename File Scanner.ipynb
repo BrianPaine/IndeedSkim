{
 "cells": [
  {
   "cell_type": "code",
   "execution_count": 1,
   "metadata": {
    "collapsed": true
   },
   "outputs": [],
   "source": [
    "#open all the files, try and parse the proper data, compare total uses of words or phrases\n",
    "\n",
    "import os\n",
    "\n",
    "#where all of our files were exported\n",
    "\n",
    "#for loop over all the files - for now we will just open one of the files\n",
    "for i in range(0, 9999):\n",
    "    try:\n",
    "        f = open(\"indeed_files/edited_files\" + str(i) + \".txt\", \"r+\")\n",
    "    except FileNotFoundError:\n",
    "        # doesn't exist\n",
    "        break\n",
    "    else:\n",
    "        # exists\n",
    "        #now we got a buncha data, time to figure out what is in it\n",
    "        s = f.read()"
   ]
  },
  {
   "cell_type": "code",
   "execution_count": null,
   "metadata": {
    "collapsed": true
   },
   "outputs": [],
   "source": []
  }
 ],
 "metadata": {
  "kernelspec": {
   "display_name": "Python 3",
   "language": "python",
   "name": "python3"
  },
  "language_info": {
   "codemirror_mode": {
    "name": "ipython",
    "version": 3
   },
   "file_extension": ".py",
   "mimetype": "text/x-python",
   "name": "python",
   "nbconvert_exporter": "python",
   "pygments_lexer": "ipython3",
   "version": "3.6.1"
  }
 },
 "nbformat": 4,
 "nbformat_minor": 2
}
